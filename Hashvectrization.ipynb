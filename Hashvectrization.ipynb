{
  "nbformat": 4,
  "nbformat_minor": 0,
  "metadata": {
    "colab": {
      "provenance": [],
      "authorship_tag": "ABX9TyMiN5Y72TSvhwZa6OYtrNsc",
      "include_colab_link": true
    },
    "kernelspec": {
      "name": "python3",
      "display_name": "Python 3"
    },
    "language_info": {
      "name": "python"
    }
  },
  "cells": [
    {
      "cell_type": "markdown",
      "metadata": {
        "id": "view-in-github",
        "colab_type": "text"
      },
      "source": [
        "<a href=\"https://colab.research.google.com/github/Rockyuttam143/NLP-BLOG/blob/main/Hashvectrization.ipynb\" target=\"_parent\"><img src=\"https://colab.research.google.com/assets/colab-badge.svg\" alt=\"Open In Colab\"/></a>"
      ]
    },
    {
      "cell_type": "markdown",
      "source": [
        "#Install necessary libraries:\n"
      ],
      "metadata": {
        "id": "vMBcXEJgyqm_"
      }
    },
    {
      "cell_type": "code",
      "execution_count": 2,
      "metadata": {
        "id": "fIeBlomSreez"
      },
      "outputs": [],
      "source": [
        "import pandas as pd\n",
        "from sklearn.feature_extraction.text import HashingVectorizer"
      ]
    },
    {
      "cell_type": "markdown",
      "source": [
        "#Prepare your CSV file"
      ],
      "metadata": {
        "id": "jlkGV5bwzAz7"
      }
    },
    {
      "cell_type": "markdown",
      "source": [],
      "metadata": {
        "id": "JYRXHwCfzzNN"
      }
    },
    {
      "cell_type": "code",
      "source": [
        "df = pd.read_csv('/content/superheroes_nlp_dataset.csv')"
      ],
      "metadata": {
        "id": "DiklWA3Ar-Q6"
      },
      "execution_count": 18,
      "outputs": []
    },
    {
      "cell_type": "markdown",
      "source": [
        "# Check Column Names:"
      ],
      "metadata": {
        "id": "cfq8IE8FzEYm"
      }
    },
    {
      "cell_type": "code",
      "source": [
        "print(df.columns)"
      ],
      "metadata": {
        "collapsed": true,
        "colab": {
          "base_uri": "https://localhost:8080/"
        },
        "id": "wLgDWgb9tkxm",
        "outputId": "60da57bb-67e1-4212-c579-6c521853f1db"
      },
      "execution_count": 19,
      "outputs": [
        {
          "output_type": "stream",
          "name": "stdout",
          "text": [
            "Index(['name', 'real_name', 'full_name', 'overall_score', 'history_text',\n",
            "       'powers_text', 'intelligence_score', 'strength_score', 'speed_score',\n",
            "       'durability_score', 'power_score', 'combat_score', 'superpowers',\n",
            "       'alter_egos', 'aliases', 'place_of_birth', 'first_appearance',\n",
            "       'creator', 'alignment', 'occupation', 'base', 'teams', 'relatives',\n",
            "       'gender', 'type_race', 'height', 'weight', 'eye_color', 'hair_color',\n",
            "       'skin_color', 'img', 'has_electrokinesis', 'has_energy_constructs',\n",
            "       'has_mind_control_resistance', 'has_matter_manipulation',\n",
            "       'has_telepathy_resistance', 'has_mind_control', 'has_enhanced_hearing',\n",
            "       'has_dimensional_travel', 'has_element_control', 'has_size_changing',\n",
            "       'has_fire_resistance', 'has_fire_control', 'has_dexterity',\n",
            "       'has_reality_warping', 'has_illusions', 'has_energy_beams',\n",
            "       'has_peak_human_condition', 'has_shapeshifting', 'has_heat_resistance',\n",
            "       'has_jump', 'has_self-sustenance', 'has_energy_absorption',\n",
            "       'has_cold_resistance', 'has_magic', 'has_telekinesis',\n",
            "       'has_toxin_and_disease_resistance', 'has_telepathy', 'has_regeneration',\n",
            "       'has_immortality', 'has_teleportation', 'has_force_fields',\n",
            "       'has_energy_manipulation', 'has_endurance', 'has_longevity',\n",
            "       'has_weapon-based_powers', 'has_energy_blasts', 'has_enhanced_senses',\n",
            "       'has_invulnerability', 'has_stealth', 'has_marksmanship', 'has_flight',\n",
            "       'has_accelerated_healing', 'has_weapons_master', 'has_intelligence',\n",
            "       'has_reflexes', 'has_super_speed', 'has_durability', 'has_stamina',\n",
            "       'has_agility', 'has_super_strength'],\n",
            "      dtype='object')\n"
          ]
        }
      ]
    },
    {
      "cell_type": "markdown",
      "source": [
        "#Initialize the HashingVectorizer:"
      ],
      "metadata": {
        "id": "6r3p97zEzQ4n"
      }
    },
    {
      "cell_type": "code",
      "source": [
        "vectorizer = HashingVectorizer(n_features=2**4, norm=None, alternate_sign=False)"
      ],
      "metadata": {
        "id": "YB6znIK1sYYc"
      },
      "execution_count": 20,
      "outputs": []
    },
    {
      "cell_type": "markdown",
      "source": [
        "#Fit and Transform the Text Data:"
      ],
      "metadata": {
        "id": "_Lbmef6izVu-"
      }
    },
    {
      "cell_type": "code",
      "source": [
        "X = vectorizer.fit_transform(df)"
      ],
      "metadata": {
        "id": "qm3K4eHisu7k"
      },
      "execution_count": 21,
      "outputs": []
    },
    {
      "cell_type": "markdown",
      "source": [
        "#Convert to Dense Array:"
      ],
      "metadata": {
        "id": "ciwK5rcJzauC"
      }
    },
    {
      "cell_type": "code",
      "source": [
        "X_dense = X.toarray()"
      ],
      "metadata": {
        "id": "H7ACOSgdtHNS"
      },
      "execution_count": 22,
      "outputs": []
    },
    {
      "cell_type": "markdown",
      "source": [
        "#Print Text and Corresponding Vectors:"
      ],
      "metadata": {
        "id": "SQpgUDDTzdob"
      }
    },
    {
      "cell_type": "code",
      "source": [
        "for text, vector in zip(df, X_dense):\n",
        "    print(f\"Text: {text}\")\n",
        "    print(f\"Vector: {vector}\\n\")"
      ],
      "metadata": {
        "colab": {
          "base_uri": "https://localhost:8080/"
        },
        "collapsed": true,
        "id": "kZIa7Jspt5_G",
        "outputId": "f77764cd-bab5-4a46-8f17-ee0a757f4886"
      },
      "execution_count": 12,
      "outputs": [
        {
          "output_type": "stream",
          "name": "stdout",
          "text": [
            "Text: name\n",
            "Vector: [1. 0. 0. 0. 0. 0. 0. 0. 0. 0. 0. 0. 0. 0. 0. 0.]\n",
            "\n",
            "Text: real_name\n",
            "Vector: [0. 1. 0. 0. 0. 0. 0. 0. 0. 0. 0. 0. 0. 0. 0. 0.]\n",
            "\n",
            "Text: full_name\n",
            "Vector: [0. 0. 0. 0. 0. 0. 0. 1. 0. 0. 0. 0. 0. 0. 0. 0.]\n",
            "\n",
            "Text: overall_score\n",
            "Vector: [0. 0. 0. 0. 1. 0. 0. 0. 0. 0. 0. 0. 0. 0. 0. 0.]\n",
            "\n",
            "Text: history_text\n",
            "Vector: [0. 0. 0. 0. 0. 0. 0. 1. 0. 0. 0. 0. 0. 0. 0. 0.]\n",
            "\n",
            "Text: powers_text\n",
            "Vector: [0. 1. 0. 0. 0. 0. 0. 0. 0. 0. 0. 0. 0. 0. 0. 0.]\n",
            "\n",
            "Text: intelligence_score\n",
            "Vector: [0. 0. 0. 0. 0. 0. 0. 0. 1. 0. 0. 0. 0. 0. 0. 0.]\n",
            "\n",
            "Text: strength_score\n",
            "Vector: [0. 0. 0. 0. 0. 0. 0. 1. 0. 0. 0. 0. 0. 0. 0. 0.]\n",
            "\n",
            "Text: speed_score\n",
            "Vector: [0. 0. 0. 0. 0. 0. 0. 0. 0. 0. 0. 0. 0. 0. 1. 0.]\n",
            "\n",
            "Text: durability_score\n",
            "Vector: [0. 0. 0. 0. 0. 1. 0. 0. 0. 0. 0. 0. 0. 0. 0. 0.]\n",
            "\n",
            "Text: power_score\n",
            "Vector: [0. 0. 0. 0. 0. 0. 0. 0. 0. 0. 0. 0. 0. 1. 0. 0.]\n",
            "\n",
            "Text: combat_score\n",
            "Vector: [0. 0. 0. 0. 0. 0. 0. 0. 0. 0. 1. 0. 0. 0. 0. 0.]\n",
            "\n",
            "Text: superpowers\n",
            "Vector: [0. 0. 0. 0. 0. 0. 0. 0. 0. 1. 0. 0. 0. 0. 0. 0.]\n",
            "\n",
            "Text: alter_egos\n",
            "Vector: [0. 0. 0. 1. 0. 0. 0. 0. 0. 0. 0. 0. 0. 0. 0. 0.]\n",
            "\n",
            "Text: aliases\n",
            "Vector: [0. 0. 0. 0. 0. 0. 0. 0. 0. 1. 0. 0. 0. 0. 0. 0.]\n",
            "\n",
            "Text: place_of_birth\n",
            "Vector: [0. 0. 0. 0. 0. 0. 0. 0. 1. 0. 0. 0. 0. 0. 0. 0.]\n",
            "\n",
            "Text: first_appearance\n",
            "Vector: [0. 0. 0. 0. 0. 0. 0. 1. 0. 0. 0. 0. 0. 0. 0. 0.]\n",
            "\n",
            "Text: creator\n",
            "Vector: [0. 0. 0. 0. 0. 0. 0. 0. 0. 0. 0. 1. 0. 0. 0. 0.]\n",
            "\n",
            "Text: alignment\n",
            "Vector: [0. 0. 0. 1. 0. 0. 0. 0. 0. 0. 0. 0. 0. 0. 0. 0.]\n",
            "\n",
            "Text: occupation\n",
            "Vector: [0. 0. 0. 0. 0. 0. 0. 0. 0. 0. 0. 1. 0. 0. 0. 0.]\n",
            "\n",
            "Text: base\n",
            "Vector: [1. 0. 0. 0. 0. 0. 0. 0. 0. 0. 0. 0. 0. 0. 0. 0.]\n",
            "\n",
            "Text: teams\n",
            "Vector: [0. 0. 0. 0. 0. 0. 0. 0. 0. 1. 0. 0. 0. 0. 0. 0.]\n",
            "\n",
            "Text: relatives\n",
            "Vector: [0. 0. 0. 0. 0. 0. 0. 0. 0. 0. 1. 0. 0. 0. 0. 0.]\n",
            "\n",
            "Text: gender\n",
            "Vector: [0. 0. 1. 0. 0. 0. 0. 0. 0. 0. 0. 0. 0. 0. 0. 0.]\n",
            "\n",
            "Text: type_race\n",
            "Vector: [0. 0. 0. 0. 0. 0. 0. 0. 0. 0. 1. 0. 0. 0. 0. 0.]\n",
            "\n",
            "Text: height\n",
            "Vector: [0. 0. 0. 0. 0. 0. 0. 1. 0. 0. 0. 0. 0. 0. 0. 0.]\n",
            "\n",
            "Text: weight\n",
            "Vector: [0. 0. 0. 0. 0. 1. 0. 0. 0. 0. 0. 0. 0. 0. 0. 0.]\n",
            "\n",
            "Text: eye_color\n",
            "Vector: [0. 0. 0. 0. 0. 0. 1. 0. 0. 0. 0. 0. 0. 0. 0. 0.]\n",
            "\n",
            "Text: hair_color\n",
            "Vector: [0. 0. 0. 0. 0. 1. 0. 0. 0. 0. 0. 0. 0. 0. 0. 0.]\n",
            "\n",
            "Text: skin_color\n",
            "Vector: [0. 0. 0. 0. 0. 0. 0. 0. 0. 0. 0. 0. 0. 0. 0. 1.]\n",
            "\n",
            "Text: img\n",
            "Vector: [1. 0. 0. 0. 0. 0. 0. 0. 0. 0. 0. 0. 0. 0. 0. 0.]\n",
            "\n",
            "Text: has_electrokinesis\n",
            "Vector: [0. 0. 0. 0. 0. 0. 0. 0. 0. 0. 0. 0. 0. 1. 0. 0.]\n",
            "\n",
            "Text: has_energy_constructs\n",
            "Vector: [0. 0. 0. 0. 0. 0. 0. 0. 0. 0. 1. 0. 0. 0. 0. 0.]\n",
            "\n",
            "Text: has_mind_control_resistance\n",
            "Vector: [1. 0. 0. 0. 0. 0. 0. 0. 0. 0. 0. 0. 0. 0. 0. 0.]\n",
            "\n",
            "Text: has_matter_manipulation\n",
            "Vector: [0. 0. 0. 0. 0. 1. 0. 0. 0. 0. 0. 0. 0. 0. 0. 0.]\n",
            "\n",
            "Text: has_telepathy_resistance\n",
            "Vector: [1. 0. 0. 0. 0. 0. 0. 0. 0. 0. 0. 0. 0. 0. 0. 0.]\n",
            "\n",
            "Text: has_mind_control\n",
            "Vector: [0. 0. 0. 0. 0. 0. 0. 0. 0. 1. 0. 0. 0. 0. 0. 0.]\n",
            "\n",
            "Text: has_enhanced_hearing\n",
            "Vector: [0. 0. 0. 0. 0. 0. 0. 0. 0. 0. 0. 0. 0. 0. 1. 0.]\n",
            "\n",
            "Text: has_dimensional_travel\n",
            "Vector: [0. 0. 1. 0. 0. 0. 0. 0. 0. 0. 0. 0. 0. 0. 0. 0.]\n",
            "\n",
            "Text: has_element_control\n",
            "Vector: [0. 0. 0. 0. 0. 0. 0. 0. 0. 0. 0. 0. 0. 0. 1. 0.]\n",
            "\n",
            "Text: has_size_changing\n",
            "Vector: [0. 0. 0. 0. 0. 0. 0. 0. 0. 0. 0. 0. 1. 0. 0. 0.]\n",
            "\n",
            "Text: has_fire_resistance\n",
            "Vector: [1. 0. 0. 0. 0. 0. 0. 0. 0. 0. 0. 0. 0. 0. 0. 0.]\n",
            "\n",
            "Text: has_fire_control\n",
            "Vector: [0. 1. 0. 0. 0. 0. 0. 0. 0. 0. 0. 0. 0. 0. 0. 0.]\n",
            "\n",
            "Text: has_dexterity\n",
            "Vector: [0. 0. 1. 0. 0. 0. 0. 0. 0. 0. 0. 0. 0. 0. 0. 0.]\n",
            "\n",
            "Text: has_reality_warping\n",
            "Vector: [1. 0. 0. 0. 0. 0. 0. 0. 0. 0. 0. 0. 0. 0. 0. 0.]\n",
            "\n",
            "Text: has_illusions\n",
            "Vector: [1. 0. 0. 0. 0. 0. 0. 0. 0. 0. 0. 0. 0. 0. 0. 0.]\n",
            "\n",
            "Text: has_energy_beams\n",
            "Vector: [0. 0. 0. 0. 0. 0. 0. 0. 0. 1. 0. 0. 0. 0. 0. 0.]\n",
            "\n",
            "Text: has_peak_human_condition\n",
            "Vector: [0. 0. 0. 0. 0. 0. 0. 0. 0. 0. 0. 0. 0. 0. 0. 1.]\n",
            "\n",
            "Text: has_shapeshifting\n",
            "Vector: [0. 0. 0. 0. 0. 0. 0. 0. 0. 1. 0. 0. 0. 0. 0. 0.]\n",
            "\n",
            "Text: has_heat_resistance\n",
            "Vector: [0. 0. 0. 0. 0. 0. 0. 0. 0. 0. 0. 0. 0. 1. 0. 0.]\n",
            "\n",
            "Text: has_jump\n",
            "Vector: [1. 0. 0. 0. 0. 0. 0. 0. 0. 0. 0. 0. 0. 0. 0. 0.]\n",
            "\n",
            "Text: has_self-sustenance\n",
            "Vector: [0. 0. 0. 1. 0. 0. 0. 0. 0. 1. 0. 0. 0. 0. 0. 0.]\n",
            "\n",
            "Text: has_energy_absorption\n",
            "Vector: [0. 0. 0. 0. 0. 1. 0. 0. 0. 0. 0. 0. 0. 0. 0. 0.]\n",
            "\n",
            "Text: has_cold_resistance\n",
            "Vector: [0. 0. 0. 0. 0. 1. 0. 0. 0. 0. 0. 0. 0. 0. 0. 0.]\n",
            "\n",
            "Text: has_magic\n",
            "Vector: [0. 0. 0. 0. 0. 0. 0. 0. 0. 0. 0. 0. 0. 0. 1. 0.]\n",
            "\n",
            "Text: has_telekinesis\n",
            "Vector: [0. 0. 0. 0. 0. 0. 0. 0. 1. 0. 0. 0. 0. 0. 0. 0.]\n",
            "\n",
            "Text: has_toxin_and_disease_resistance\n",
            "Vector: [0. 0. 0. 0. 0. 0. 0. 0. 0. 0. 0. 0. 1. 0. 0. 0.]\n",
            "\n",
            "Text: has_telepathy\n",
            "Vector: [0. 0. 0. 0. 0. 0. 0. 0. 0. 0. 1. 0. 0. 0. 0. 0.]\n",
            "\n",
            "Text: has_regeneration\n",
            "Vector: [1. 0. 0. 0. 0. 0. 0. 0. 0. 0. 0. 0. 0. 0. 0. 0.]\n",
            "\n",
            "Text: has_immortality\n",
            "Vector: [0. 0. 0. 0. 0. 1. 0. 0. 0. 0. 0. 0. 0. 0. 0. 0.]\n",
            "\n",
            "Text: has_teleportation\n",
            "Vector: [0. 0. 0. 0. 0. 0. 0. 0. 0. 0. 0. 0. 0. 0. 0. 1.]\n",
            "\n",
            "Text: has_force_fields\n",
            "Vector: [0. 0. 0. 0. 0. 0. 0. 0. 0. 1. 0. 0. 0. 0. 0. 0.]\n",
            "\n",
            "Text: has_energy_manipulation\n",
            "Vector: [0. 0. 0. 0. 0. 0. 1. 0. 0. 0. 0. 0. 0. 0. 0. 0.]\n",
            "\n",
            "Text: has_endurance\n",
            "Vector: [0. 0. 0. 0. 0. 0. 1. 0. 0. 0. 0. 0. 0. 0. 0. 0.]\n",
            "\n",
            "Text: has_longevity\n",
            "Vector: [0. 0. 0. 0. 1. 0. 0. 0. 0. 0. 0. 0. 0. 0. 0. 0.]\n",
            "\n",
            "Text: has_weapon-based_powers\n",
            "Vector: [0. 0. 1. 0. 0. 0. 1. 0. 0. 0. 0. 0. 0. 0. 0. 0.]\n",
            "\n",
            "Text: has_energy_blasts\n",
            "Vector: [1. 0. 0. 0. 0. 0. 0. 0. 0. 0. 0. 0. 0. 0. 0. 0.]\n",
            "\n",
            "Text: has_enhanced_senses\n",
            "Vector: [0. 0. 1. 0. 0. 0. 0. 0. 0. 0. 0. 0. 0. 0. 0. 0.]\n",
            "\n",
            "Text: has_invulnerability\n",
            "Vector: [0. 0. 0. 0. 0. 0. 0. 0. 0. 0. 0. 0. 0. 1. 0. 0.]\n",
            "\n",
            "Text: has_stealth\n",
            "Vector: [0. 0. 0. 0. 0. 1. 0. 0. 0. 0. 0. 0. 0. 0. 0. 0.]\n",
            "\n",
            "Text: has_marksmanship\n",
            "Vector: [0. 0. 0. 0. 0. 0. 0. 0. 0. 0. 0. 0. 1. 0. 0. 0.]\n",
            "\n",
            "Text: has_flight\n",
            "Vector: [0. 0. 0. 0. 0. 0. 0. 0. 0. 0. 0. 0. 0. 0. 1. 0.]\n",
            "\n",
            "Text: has_accelerated_healing\n",
            "Vector: [0. 1. 0. 0. 0. 0. 0. 0. 0. 0. 0. 0. 0. 0. 0. 0.]\n",
            "\n",
            "Text: has_weapons_master\n",
            "Vector: [0. 0. 0. 1. 0. 0. 0. 0. 0. 0. 0. 0. 0. 0. 0. 0.]\n",
            "\n",
            "Text: has_intelligence\n",
            "Vector: [0. 0. 0. 0. 0. 0. 1. 0. 0. 0. 0. 0. 0. 0. 0. 0.]\n",
            "\n",
            "Text: has_reflexes\n",
            "Vector: [0. 0. 0. 0. 0. 0. 0. 0. 0. 0. 0. 0. 0. 1. 0. 0.]\n",
            "\n",
            "Text: has_super_speed\n",
            "Vector: [0. 0. 0. 0. 0. 0. 0. 0. 1. 0. 0. 0. 0. 0. 0. 0.]\n",
            "\n",
            "Text: has_durability\n",
            "Vector: [0. 0. 0. 1. 0. 0. 0. 0. 0. 0. 0. 0. 0. 0. 0. 0.]\n",
            "\n",
            "Text: has_stamina\n",
            "Vector: [0. 0. 0. 0. 0. 0. 0. 0. 0. 0. 0. 1. 0. 0. 0. 0.]\n",
            "\n",
            "Text: has_agility\n",
            "Vector: [0. 0. 0. 0. 0. 1. 0. 0. 0. 0. 0. 0. 0. 0. 0. 0.]\n",
            "\n",
            "Text: has_super_strength\n",
            "Vector: [0. 0. 0. 0. 0. 0. 0. 0. 0. 0. 0. 0. 1. 0. 0. 0.]\n",
            "\n"
          ]
        }
      ]
    },
    {
      "cell_type": "markdown",
      "source": [
        "#Save Vectors Back to the DataFrame:"
      ],
      "metadata": {
        "id": "gNNZm_qHzh8e"
      }
    },
    {
      "cell_type": "code",
      "source": [
        "df_vectors = pd.DataFrame(X_dense, columns=[f'feature_{i}' for i in range(X_dense.shape[1])])\n",
        "df = pd.concat([df, df_vectors], axis=1)\n"
      ],
      "metadata": {
        "id": "9klWqLe6uD-M"
      },
      "execution_count": 23,
      "outputs": []
    },
    {
      "cell_type": "markdown",
      "source": [
        "# Save the Updated DataFrame to a New CSV File:"
      ],
      "metadata": {
        "id": "4GZtxodOznEV"
      }
    },
    {
      "cell_type": "code",
      "source": [
        "df.to_csv('data_with_vectors.csv', index=False)"
      ],
      "metadata": {
        "id": "JNrGLneQuOZF"
      },
      "execution_count": 24,
      "outputs": []
    },
    {
      "cell_type": "code",
      "source": [
        "print(X_dense)"
      ],
      "metadata": {
        "colab": {
          "base_uri": "https://localhost:8080/"
        },
        "id": "UGS428SjuQ27",
        "outputId": "7020afc9-1972-4166-9ec9-43f04bf9ea02"
      },
      "execution_count": 15,
      "outputs": [
        {
          "output_type": "stream",
          "name": "stdout",
          "text": [
            "[[1. 0. 0. ... 0. 0. 0.]\n",
            " [0. 1. 0. ... 0. 0. 0.]\n",
            " [0. 0. 0. ... 0. 0. 0.]\n",
            " ...\n",
            " [0. 0. 0. ... 0. 0. 0.]\n",
            " [0. 0. 0. ... 0. 0. 0.]\n",
            " [0. 0. 0. ... 0. 0. 0.]]\n"
          ]
        }
      ]
    },
    {
      "cell_type": "code",
      "source": [],
      "metadata": {
        "id": "EBIClO4PvZ3o"
      },
      "execution_count": null,
      "outputs": []
    }
  ]
}